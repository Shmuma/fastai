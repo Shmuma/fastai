{
 "cells": [
  {
   "cell_type": "markdown",
   "metadata": {},
   "source": [
    "# Data conversion for training the model"
   ]
  },
  {
   "cell_type": "code",
   "execution_count": 25,
   "metadata": {},
   "outputs": [],
   "source": [
    "import os\n",
    "import shutil\n",
    "import pandas as pd\n",
    "import PIL.Image\n",
    "from tqdm import tqdm"
   ]
  },
  {
   "cell_type": "code",
   "execution_count": 20,
   "metadata": {},
   "outputs": [],
   "source": [
    "DATA_PATH = \"/mnt/kaggle/inclusive-images-challenge/\"\n",
    "TGT_PATH = \"/mnt/kaggle-fast/inclusive-images-challenge/\""
   ]
  },
  {
   "cell_type": "code",
   "execution_count": 21,
   "metadata": {},
   "outputs": [],
   "source": [
    "os.makedirs(TGT_PATH, exist_ok=True)"
   ]
  },
  {
   "cell_type": "code",
   "execution_count": 22,
   "metadata": {},
   "outputs": [],
   "source": [
    "#df_label_names = pd.read_csv(f'{DATA_PATH}class-descriptions.csv')\n",
    "print(\"Loading bounding box data...\")\n",
    "df_bboxes = pd.read_csv(f'{DATA_PATH}train_bounding_boxes.csv')"
   ]
  },
  {
   "cell_type": "code",
   "execution_count": 26,
   "metadata": {},
   "outputs": [],
   "source": [
    "print(\"Cleaning up old data...\")\n",
    "TRAIN_PATH = f'{TGT_PATH}train/'\n",
    "if os.path.exists(TRAIN_PATH):\n",
    "    shutil.rmtree(TRAIN_PATH)\n",
    "os.makedirs(TRAIN_PATH)"
   ]
  },
  {
   "cell_type": "code",
   "execution_count": 27,
   "metadata": {},
   "outputs": [],
   "source": [
    "df = df_bboxes"
   ]
  },
  {
   "cell_type": "code",
   "execution_count": 28,
   "metadata": {},
   "outputs": [
    {
     "name": "stderr",
     "output_type": "stream",
     "text": [
      "100%|██████████| 200/200 [00:01<00:00, 109.09it/s]\n"
     ]
    }
   ],
   "source": [
    "print(\"Converting %d bounding boxes\" % len(df))\n",
    "tgt_df = pd.DataFrame(columns=['ImageID', 'LabelName'])\n",
    "prev_id = None\n",
    "for idx, row in tqdm(df.iterrows(), total=len(df)):\n",
    "    img_id = row['ImageID']\n",
    "    if img_id != prev_id:\n",
    "        fname = f'{DATA_PATH}train/{img_id}.jpg'\n",
    "        prev_id = img_id\n",
    "        img = PIL.Image.open(fname)\n",
    "        sub_idx = 0\n",
    "        sub_map = {}\n",
    "    h,w = img.size\n",
    "    bbox = round(w*row['XMin'], 0), round(h*row['YMin'], 0), round(w*row['XMax'], 0), round(h*row['YMax'], 0)\n",
    "    bbox = tuple(map(int, bbox))\n",
    "    tgt_img_id = sub_map.get(bbox)\n",
    "    if tgt_img_id is None:\n",
    "        tgt_img_id = f'{img_id}_{sub_idx:05}'\n",
    "        tgt_fname = f'{TRAIN_PATH}{tgt_img_id}.jpg'\n",
    "        tgt_img = img.crop(bbox)\n",
    "        tgt_img.save(tgt_fname)\n",
    "        sub_map[bbox] = tgt_img_id\n",
    "        sub_idx += 1\n",
    "    tgt_label = row['LabelName']\n",
    "    tgt_df = tgt_df.append({'ImageID': tgt_img_id, 'LabelName': tgt_label}, ignore_index=True)\n",
    "tgt_df.to_csv(f'{TGT_PATH}train_proc.csv', index=False)"
   ]
  },
  {
   "cell_type": "code",
   "execution_count": null,
   "metadata": {},
   "outputs": [],
   "source": []
  }
 ],
 "metadata": {
  "kernelspec": {
   "display_name": "Python 3",
   "language": "python",
   "name": "python3"
  },
  "language_info": {
   "codemirror_mode": {
    "name": "ipython",
    "version": 3
   },
   "file_extension": ".py",
   "mimetype": "text/x-python",
   "name": "python",
   "nbconvert_exporter": "python",
   "pygments_lexer": "ipython3",
   "version": "3.6.6"
  }
 },
 "nbformat": 4,
 "nbformat_minor": 2
}
