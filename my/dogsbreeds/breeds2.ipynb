{
 "cells": [
  {
   "cell_type": "code",
   "execution_count": 1,
   "metadata": {},
   "outputs": [],
   "source": [
    "%reload_ext autoreload\n",
    "%autoreload 2\n",
    "%matplotlib inline"
   ]
  },
  {
   "cell_type": "code",
   "execution_count": 2,
   "metadata": {},
   "outputs": [],
   "source": [
    "import sys\n",
    "sys.path.append(\"../..\")"
   ]
  },
  {
   "cell_type": "markdown",
   "metadata": {},
   "source": [
    "Submit: https://www.kaggle.com/c/dog-breed-identification/submissions?sortBy=date&group=all&page=1"
   ]
  },
  {
   "cell_type": "code",
   "execution_count": 3,
   "metadata": {},
   "outputs": [
    {
     "name": "stderr",
     "output_type": "stream",
     "text": [
      "/home/shmuma/anaconda3/envs/fastai/lib/python3.6/site-packages/sklearn/ensemble/weight_boosting.py:29: DeprecationWarning: numpy.core.umath_tests is an internal NumPy module and should not be imported. It will be removed in a future NumPy release.\n",
      "  from numpy.core.umath_tests import inner1d\n"
     ]
    }
   ],
   "source": [
    "# This file contains all the main external libs we'll use\n",
    "from fastai.imports import *\n",
    "from fastai.transforms import *\n",
    "from fastai.conv_learner import *\n",
    "from fastai.model import *\n",
    "from fastai.dataset import *\n",
    "from fastai.sgdr import *\n",
    "from fastai.plots import *"
   ]
  },
  {
   "cell_type": "code",
   "execution_count": 4,
   "metadata": {},
   "outputs": [],
   "source": [
    "PATH = \"../../courses/dl1/data/dogs-breed/\""
   ]
  },
  {
   "cell_type": "code",
   "execution_count": 5,
   "metadata": {},
   "outputs": [],
   "source": [
    "label_csv = f'{PATH}labels.csv'\n",
    "n = len(list(open(label_csv))) - 1 # header is not counted (-1)\n",
    "val_idxs = get_cv_idxs(n) # random 20% data for validation set"
   ]
  },
  {
   "cell_type": "markdown",
   "metadata": {},
   "source": [
    "Weights got from http://files.fast.ai/models/weights.tgz"
   ]
  },
  {
   "cell_type": "code",
   "execution_count": 6,
   "metadata": {},
   "outputs": [],
   "source": [
    "sz = 224"
   ]
  },
  {
   "cell_type": "code",
   "execution_count": 19,
   "metadata": {},
   "outputs": [],
   "source": [
    "def get_data(sz, bs, arch=resnet50):\n",
    "    tfms = tfms_from_model(arch, sz, aug_tfms=transforms_side_on, max_zoom=1.1)\n",
    "    data = ImageClassifierData.from_csv(PATH, \"train\", f\"{PATH}/labels.csv\", bs=bs, \\\n",
    "                                        test_name=\"test\", tfms=tfms, suffix='.jpg', val_idxs=val_idxs)\n",
    "    if sz > 300:\n",
    "        return data\n",
    "    else:\n",
    "        return data.resize(sz, 'tmp')"
   ]
  },
  {
   "cell_type": "code",
   "execution_count": 8,
   "metadata": {},
   "outputs": [
    {
     "data": {
      "application/vnd.jupyter.widget-view+json": {
       "model_id": "77f52a72480e41048f7df09d61f0c83a",
       "version_major": 2,
       "version_minor": 0
      },
      "text/plain": [
       "HBox(children=(IntProgress(value=0, max=6), HTML(value='')))"
      ]
     },
     "metadata": {},
     "output_type": "display_data"
    },
    {
     "name": "stdout",
     "output_type": "stream",
     "text": [
      "\n"
     ]
    }
   ],
   "source": [
    "data = get_data(sz, 64)"
   ]
  },
  {
   "cell_type": "code",
   "execution_count": 17,
   "metadata": {
    "scrolled": false
   },
   "outputs": [],
   "source": [
    "learn = ConvLearner.pretrained(arch, data, precompute=False)"
   ]
  },
  {
   "cell_type": "code",
   "execution_count": 10,
   "metadata": {},
   "outputs": [
    {
     "data": {
      "application/vnd.jupyter.widget-view+json": {
       "model_id": "afd48de295cc4a5cb6a8e8acf8b48add",
       "version_major": 2,
       "version_minor": 0
      },
      "text/plain": [
       "HBox(children=(IntProgress(value=0, description='Epoch', max=1), HTML(value='')))"
      ]
     },
     "metadata": {},
     "output_type": "display_data"
    },
    {
     "name": "stdout",
     "output_type": "stream",
     "text": [
      " 95%|█████████▍| 121/128 [00:44<00:02,  2.69it/s, loss=8.15]"
     ]
    }
   ],
   "source": [
    "lrf = learn.lr_find()"
   ]
  },
  {
   "cell_type": "code",
   "execution_count": 12,
   "metadata": {},
   "outputs": [
    {
     "data": {
      "image/png": "[encoded data removed]",
      "text/plain": [
       "<Figure size 432x288 with 1 Axes>"
      ]
     },
     "metadata": {},
     "output_type": "display_data"
    }
   ],
   "source": [
    "learn.sched.plot()"
   ]
  },
  {
   "cell_type": "code",
   "execution_count": 13,
   "metadata": {},
   "outputs": [
    {
     "data": {
      "application/vnd.jupyter.widget-view+json": {
       "model_id": "6c402ee130bb4b6d95f652ee8c9dcf08",
       "version_major": 2,
       "version_minor": 0
      },
      "text/plain": [
       "HBox(children=(IntProgress(value=0, description='Epoch', max=5), HTML(value='')))"
      ]
     },
     "metadata": {},
     "output_type": "display_data"
    },
    {
     "name": "stdout",
     "output_type": "stream",
     "text": [
      "epoch      trn_loss   val_loss   accuracy                   \n",
      "    0      1.075066   0.537391   0.832681  \n",
      "    1      0.771289   0.48884    0.843444                    \n",
      "    2      0.6436     0.490562   0.851272                    \n",
      "    3      0.587176   0.476547   0.849315                    \n",
      "    4      0.528012   0.497397   0.850783                    \n"
     ]
    },
    {
     "data": {
      "text/plain": [
       "[array([0.4974]), 0.850782779098257]"
      ]
     },
     "execution_count": 13,
     "metadata": {},
     "output_type": "execute_result"
    }
   ],
   "source": [
    "learn.fit(1e-1, 5, cycle_len=1)"
   ]
  },
  {
   "cell_type": "code",
   "execution_count": 16,
   "metadata": {},
   "outputs": [
    {
     "data": {
      "application/vnd.jupyter.widget-view+json": {
       "model_id": "ce0577e6afa145acbf02354233e1ee13",
       "version_major": 2,
       "version_minor": 0
      },
      "text/plain": [
       "HBox(children=(IntProgress(value=0, description='Epoch', max=5), HTML(value='')))"
      ]
     },
     "metadata": {},
     "output_type": "display_data"
    },
    {
     "name": "stdout",
     "output_type": "stream",
     "text": [
      "epoch      trn_loss   val_loss   accuracy                   \n",
      "    0      1.811856   1.070986   0.790607  \n",
      "    1      1.065792   0.671454   0.828278                   \n",
      "    2      0.824576   0.563782   0.84589                     \n",
      "    3      0.710412   0.513693   0.848826                    \n",
      "    4      0.607209   0.49171    0.842955                    \n"
     ]
    },
    {
     "data": {
      "text/plain": [
       "[array([0.49171]), 0.8429549907984799]"
      ]
     },
     "execution_count": 16,
     "metadata": {},
     "output_type": "execute_result"
    }
   ],
   "source": [
    "# from initial state, to verify effect of smaller LR\n",
    "# conclusion: 1e-1 is better, try to use cycle_mult=2\n",
    "learn.fit(1e-2, 5, cycle_len=1)"
   ]
  },
  {
   "cell_type": "code",
   "execution_count": 18,
   "metadata": {},
   "outputs": [
    {
     "data": {
      "application/vnd.jupyter.widget-view+json": {
       "model_id": "3056fbe023bb409ea9ac3fc771e971fe",
       "version_major": 2,
       "version_minor": 0
      },
      "text/plain": [
       "HBox(children=(IntProgress(value=0, description='Epoch', max=7), HTML(value='')))"
      ]
     },
     "metadata": {},
     "output_type": "display_data"
    },
    {
     "name": "stdout",
     "output_type": "stream",
     "text": [
      "epoch      trn_loss   val_loss   accuracy                   \n",
      "    0      1.09431    0.536021   0.832681  \n",
      "    1      0.849616   0.559319   0.824853                    \n",
      "    2      0.550363   0.48377    0.848826                    \n",
      "    3      0.642154   0.597984   0.818493                    \n",
      "    4      0.542045   0.508471   0.843933                    \n",
      "    5      0.403467   0.480939   0.858611                    \n",
      "    6      0.333757   0.478736   0.8591                      \n"
     ]
    },
    {
     "data": {
      "text/plain": [
       "[array([0.47874]), 0.8590998036054249]"
      ]
     },
     "execution_count": 18,
     "metadata": {},
     "output_type": "execute_result"
    }
   ],
   "source": [
    "# from initial state, to verify effect of cycle_mult=2\n",
    "learn.fit(1e-1, 3, cycle_len=1, cycle_mult=2)"
   ]
  },
  {
   "cell_type": "code",
   "execution_count": 20,
   "metadata": {},
   "outputs": [
    {
     "data": {
      "application/vnd.jupyter.widget-view+json": {
       "model_id": "3120c862b738486996d0fff94106f8b2",
       "version_major": 2,
       "version_minor": 0
      },
      "text/plain": [
       "HBox(children=(IntProgress(value=0, max=6), HTML(value='')))"
      ]
     },
     "metadata": {},
     "output_type": "display_data"
    }
   ],
   "source": [
    "learn.set_data(get_data(299, 64))"
   ]
  },
  {
   "cell_type": "code",
   "execution_count": 21,
   "metadata": {},
   "outputs": [
    {
     "data": {
      "application/vnd.jupyter.widget-view+json": {
       "model_id": "1a6e4f111f93484c857fde1fae7acf64",
       "version_major": 2,
       "version_minor": 0
      },
      "text/plain": [
       "HBox(children=(IntProgress(value=0, description='Epoch', max=7), HTML(value='')))"
      ]
     },
     "metadata": {},
     "output_type": "display_data"
    },
    {
     "name": "stdout",
     "output_type": "stream",
     "text": [
      "epoch      trn_loss   val_loss   accuracy                    \n",
      "    0      0.378861   0.439839   0.869374  \n",
      "    1      0.398901   0.470188   0.863503                    \n",
      "    2      0.312521   0.444903   0.873288                    \n",
      "    3      0.374004   0.496006   0.866438                    \n",
      "    4      0.333982   0.48725    0.864481                    \n",
      "    5      0.274233   0.455805   0.867906                    \n",
      "    6      0.212601   0.453106   0.870841                    \n"
     ]
    },
    {
     "data": {
      "text/plain": [
       "[array([0.45311]), 0.870841486929914]"
      ]
     },
     "execution_count": 21,
     "metadata": {},
     "output_type": "execute_result"
    }
   ],
   "source": [
    "learn.fit(1e-1, 3, cycle_len=1, cycle_mult=2)"
   ]
  },
  {
   "cell_type": "code",
   "execution_count": 29,
   "metadata": {},
   "outputs": [],
   "source": [
    "def produce_output(learn, out_fname):\n",
    "    log_probs = learn.predict(True)\n",
    "    probs = np.exp(log_probs)\n",
    "    res_pd = pd.DataFrame(probs)\n",
    "    res_pd.columns = learn.data.classes\n",
    "    res_pd['id'] = list(map(lambda n: os.path.basename(n)[:-4], learn.data.test_ds.fnames))\n",
    "    res_pd = res_pd.set_index('id')\n",
    "    res_pd.to_csv(out_fname, compression='gzip')\n",
    "    return FileLink(out_fname)"
   ]
  },
  {
   "cell_type": "markdown",
   "metadata": {},
   "source": [
    "# Larger model"
   ]
  },
  {
   "cell_type": "code",
   "execution_count": 22,
   "metadata": {},
   "outputs": [
    {
     "data": {
      "application/vnd.jupyter.widget-view+json": {
       "model_id": "b7b14b6f637b41d783804c748d8b03d7",
       "version_major": 2,
       "version_minor": 0
      },
      "text/plain": [
       "HBox(children=(IntProgress(value=0, max=6), HTML(value='')))"
      ]
     },
     "metadata": {},
     "output_type": "display_data"
    },
    {
     "name": "stdout",
     "output_type": "stream",
     "text": [
      "                                                      \r"
     ]
    }
   ],
   "source": [
    "data = get_data(229, 64, arch=resnet101)\n",
    "learn2 = ConvLearner.pretrained(resnet101, data, precompute=False)"
   ]
  },
  {
   "cell_type": "code",
   "execution_count": 23,
   "metadata": {},
   "outputs": [
    {
     "data": {
      "application/vnd.jupyter.widget-view+json": {
       "model_id": "9b394c3f56bf4fe8a1918e9eabca6a2e",
       "version_major": 2,
       "version_minor": 0
      },
      "text/plain": [
       "HBox(children=(IntProgress(value=0, description='Epoch', max=1), HTML(value='')))"
      ]
     },
     "metadata": {},
     "output_type": "display_data"
    },
    {
     "name": "stdout",
     "output_type": "stream",
     "text": [
      " 95%|█████████▌| 122/128 [00:29<00:01,  4.20it/s, loss=10.6]"
     ]
    },
    {
     "data": {
      "image/png": "[encoded data removed]",
      "text/plain": [
       "<Figure size 432x288 with 1 Axes>"
      ]
     },
     "metadata": {},
     "output_type": "display_data"
    }
   ],
   "source": [
    "learn2.lr_find()\n",
    "learn2.sched.plot()"
   ]
  },
  {
   "cell_type": "code",
   "execution_count": 24,
   "metadata": {},
   "outputs": [
    {
     "data": {
      "application/vnd.jupyter.widget-view+json": {
       "model_id": "8da0908447284b2fbf1304beec9839a4",
       "version_major": 2,
       "version_minor": 0
      },
      "text/plain": [
       "HBox(children=(IntProgress(value=0, description='Epoch', max=7), HTML(value='')))"
      ]
     },
     "metadata": {},
     "output_type": "display_data"
    },
    {
     "name": "stdout",
     "output_type": "stream",
     "text": [
      "epoch      trn_loss   val_loss   accuracy                    \n",
      "    0      0.937021   0.467772   0.857632  \n",
      "    1      0.725454   0.454247   0.84589                     \n",
      "    2      0.475787   0.396947   0.873777                    \n",
      "    3      0.552412   0.478286   0.858611                    \n",
      "    4      0.458209   0.424179   0.866438                    \n",
      "    5      0.344687   0.382045   0.887965                    \n",
      "    6      0.292635   0.376012   0.883562                    \n"
     ]
    },
    {
     "data": {
      "text/plain": [
       "[array([0.37601]), 0.8835616439522596]"
      ]
     },
     "execution_count": 24,
     "metadata": {},
     "output_type": "execute_result"
    }
   ],
   "source": [
    "learn2.fit(1e-1, 3, cycle_len=1, cycle_mult=2)"
   ]
  },
  {
   "cell_type": "code",
   "execution_count": 26,
   "metadata": {},
   "outputs": [
    {
     "data": {
      "application/vnd.jupyter.widget-view+json": {
       "model_id": "97b487f5b1bb41b1b9d569d1ec04865b",
       "version_major": 2,
       "version_minor": 0
      },
      "text/plain": [
       "HBox(children=(IntProgress(value=0, max=6), HTML(value='')))"
      ]
     },
     "metadata": {},
     "output_type": "display_data"
    }
   ],
   "source": [
    "learn2.set_data(get_data(299, 64, arch=resnet101))"
   ]
  },
  {
   "cell_type": "code",
   "execution_count": 27,
   "metadata": {},
   "outputs": [
    {
     "data": {
      "application/vnd.jupyter.widget-view+json": {
       "model_id": "06d58079405e46998730176539f3e2ce",
       "version_major": 2,
       "version_minor": 0
      },
      "text/plain": [
       "HBox(children=(IntProgress(value=0, description='Epoch', max=7), HTML(value='')))"
      ]
     },
     "metadata": {},
     "output_type": "display_data"
    },
    {
     "name": "stdout",
     "output_type": "stream",
     "text": [
      "epoch      trn_loss   val_loss   accuracy                    \n",
      "    0      0.313732   0.362394   0.890411  \n",
      "    1      0.318908   0.406949   0.890411                    \n",
      "    2      0.247904   0.360867   0.894814                    \n",
      "    3      0.340379   0.387552   0.8909                      \n",
      "    4      0.2853     0.400921   0.888943                    \n",
      "    5      0.202938   0.362641   0.899706                    \n",
      "    6      0.185909   0.35407    0.901663                    \n"
     ]
    },
    {
     "data": {
      "text/plain": [
       "[array([0.35407]), 0.9016634056712783]"
      ]
     },
     "execution_count": 27,
     "metadata": {},
     "output_type": "execute_result"
    }
   ],
   "source": [
    "learn2.fit(1e-1, 3, cycle_len=1, cycle_mult=2)"
   ]
  },
  {
   "cell_type": "code",
   "execution_count": 28,
   "metadata": {},
   "outputs": [
    {
     "data": {
      "application/vnd.jupyter.widget-view+json": {
       "model_id": "fd90f3af2f1443c6ab7dddfd84f4a721",
       "version_major": 2,
       "version_minor": 0
      },
      "text/plain": [
       "HBox(children=(IntProgress(value=0, description='Epoch', max=31), HTML(value='')))"
      ]
     },
     "metadata": {},
     "output_type": "display_data"
    },
    {
     "name": "stdout",
     "output_type": "stream",
     "text": [
      "epoch      trn_loss   val_loss   accuracy                    \n",
      "    0      0.211001   0.3785     0.896771  \n",
      "    1      0.225251   0.410973   0.8909                      \n",
      "    2      0.181556   0.384446   0.894814                    \n",
      "    3      0.205213   0.455182   0.883562                    \n",
      "    6      0.13261    0.390883   0.895303                    \n",
      "    7      0.224675   0.442479   0.885519                    \n",
      "    8      0.206314   0.462065   0.885029                    \n",
      "    9      0.183965   0.412216   0.895793                    \n",
      "    10     0.157826   0.404661   0.893836                    \n",
      "    11     0.130643   0.40274    0.894814                    \n",
      "    12     0.109394   0.399586   0.899217                    \n",
      "    13     0.103177   0.39456    0.895303                     \n",
      "    14     0.099074   0.394573   0.89775                      \n",
      "    15     0.168468   0.459904   0.887965                    \n",
      "    16     0.202027   0.460138   0.890411                    \n",
      "    17     0.174808   0.514481   0.882583                    \n",
      "    18     0.147995   0.475257   0.885519                    \n",
      "    19     0.148678   0.472243   0.885029                    \n",
      "    20     0.134907   0.450576   0.895793                    \n",
      "    21     0.129273   0.474288   0.888454                    \n",
      "    22     0.121024   0.457971   0.892368                    \n",
      "    23     0.114172   0.441451   0.89726                     \n",
      "    24     0.102849   0.444112   0.895793                     \n",
      "    25     0.080216   0.446995   0.895303                     \n",
      "    26     0.08491    0.442906   0.896771                     \n",
      "    27     0.071217   0.438656   0.900685                     \n",
      " 61%|██████    | 78/128 [00:37<00:23,  2.08it/s, loss=0.0667]"
     ]
    },
    {
     "name": "stderr",
     "output_type": "stream",
     "text": [
      "IOPub message rate exceeded.\n",
      "The notebook server will temporarily stop sending output\n",
      "to the client in order to avoid crashing it.\n",
      "To change this limit, set the config variable\n",
      "`--NotebookApp.iopub_msg_rate_limit`.\n",
      "\n",
      "Current values:\n",
      "NotebookApp.iopub_msg_rate_limit=1000.0 (msgs/sec)\n",
      "NotebookApp.rate_limit_window=3.0 (secs)\n",
      "\n"
     ]
    }
   ],
   "source": [
    "learn2.fit(1e-1, 5, cycle_len=1, cycle_mult=2)"
   ]
  },
  {
   "cell_type": "code",
   "execution_count": 31,
   "metadata": {},
   "outputs": [
    {
     "data": {
      "text/html": [
       "<a href='res-b2-1.csv.gz' target='_blank'>res-b2-1.csv.gz</a><br>"
      ],
      "text/plain": [
       "/home/shmuma/work/classes/classes-repo.git/fast.ai/fastai/my/dogsbreeds/res-b2-1.csv.gz"
      ]
     },
     "execution_count": 31,
     "metadata": {},
     "output_type": "execute_result"
    }
   ],
   "source": [
    "produce_output(learn2, \"res-b2-1.csv.gz\")"
   ]
  },
  {
   "cell_type": "markdown",
   "metadata": {},
   "source": [
    "Score is 0.4419, much worse than previous versions"
   ]
  }
 ],
 "metadata": {
  "kernelspec": {
   "display_name": "Python 3",
   "language": "python",
   "name": "python3"
  },
  "language_info": {
   "codemirror_mode": {
    "name": "ipython",
    "version": 3
   },
   "file_extension": ".py",
   "mimetype": "text/x-python",
   "name": "python",
   "nbconvert_exporter": "python",
   "pygments_lexer": "ipython3",
   "version": "3.6.6"
  }
 },
 "nbformat": 4,
 "nbformat_minor": 2
}
